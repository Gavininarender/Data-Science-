{
  "nbformat": 4,
  "nbformat_minor": 0,
  "metadata": {
    "colab": {
      "provenance": []
    },
    "kernelspec": {
      "name": "python3",
      "display_name": "Python 3"
    },
    "language_info": {
      "name": "python"
    }
  },
  "cells": [
    {
      "cell_type": "markdown",
      "source": [
        "# ClassesObjects\n",
        "\n",
        "* python is an object oriented programing language, oop is short form of object-oriented programming.\n",
        "* In \"oop\" language, every data type or a value is an object belonging to its respective class.\n",
        "* 'we can considered class as a template or a blueprint' \n",
        "* a class normally has methods and attributes(similar to functions and variables)\n",
        "* we create an \"object\" by \"object initialization\"\n",
        "* we create a class by using keyword \"class\" "
      ],
      "metadata": {
        "id": "_SEfPEFlmmIP"
      }
    },
    {
      "cell_type": "markdown",
      "source": [
        "# Some points on Python class:  \n",
        "\n",
        "* Classes are created by keyword class.\n",
        "* Attributes are the variables that belong to a class.\n",
        "* Attributes are always public and can be accessed using the dot (.) operator.      Eg.: Myclass.Myattribute"
      ],
      "metadata": {
        "id": "Cmk0-ptC6YfQ"
      }
    },
    {
      "cell_type": "markdown",
      "source": [
        "# Create a Class\n",
        "* To create a class, use the keyword 'class'.\n"
      ],
      "metadata": {
        "id": "vbXWkV7FABtl"
      }
    },
    {
      "cell_type": "code",
      "source": [
        "# Create a class named MyClass, with a property named x:\n",
        "\n",
        "class MyClass:\n",
        "  x = 5\n",
        "\n",
        "# Create Object\n",
        "# Now we can use the class named MyClass to create objects\n",
        "# Example\n",
        "# Create an object named p1, and print the value of x\n",
        "\n",
        "p1 = MyClass()\n",
        "print(p1.x)"
      ],
      "metadata": {
        "colab": {
          "base_uri": "https://localhost:8080/"
        },
        "id": "wxMyUU2VAQ66",
        "outputId": "b31109b6-1673-449d-9d14-e291664aed5a"
      },
      "execution_count": null,
      "outputs": [
        {
          "output_type": "stream",
          "name": "stdout",
          "text": [
            "5\n"
          ]
        }
      ]
    },
    {
      "cell_type": "code",
      "execution_count": null,
      "metadata": {
        "colab": {
          "base_uri": "https://localhost:8080/"
        },
        "id": "-wlJLRr9k2vo",
        "outputId": "b23568df-ce96-427f-a845-2918ff46e267"
      },
      "outputs": [
        {
          "output_type": "stream",
          "name": "stdout",
          "text": [
            "<class '__main__.Pizza'>\n"
          ]
        }
      ],
      "source": [
        "# creating Pizza class\n",
        "\n",
        "class  Pizza():       # Pizza is a class\n",
        "  pass\n",
        "\n",
        "# creating an object of class pizza\n",
        "\n",
        "classicMagaritha = Pizza()  # object initialization\n",
        "\n",
        "print(type(classicMagaritha))\n"
      ]
    },
    {
      "cell_type": "code",
      "source": [
        "# assigning attributes to our object \"classicMagaritha\"\n",
        "## method 1 \n",
        "\n",
        "classicMagaritha.crust = \"Multi Grain\"\n",
        "classicMagaritha.oil = \"olive\"\n",
        "classicMagaritha.sauce = \"Sun Dried Cherry Tomato\"\n",
        "classicMagaritha.cheese = \"Goat Blue Cheese\"\n",
        "classicMagaritha.diameter = 12\n",
        "\n",
        "print(f'''{classicMagaritha.diameter} inch classicMagaritha with {classicMagaritha.crust} \n",
        "{classicMagaritha.sauce} sauce and {classicMagaritha.cheese} with a dash {classicMagaritha.oil} oil''')"
      ],
      "metadata": {
        "colab": {
          "base_uri": "https://localhost:8080/"
        },
        "id": "qb3gRNaIpN4L",
        "outputId": "ca53fada-7fc1-47d3-a33d-183210600a80"
      },
      "execution_count": null,
      "outputs": [
        {
          "output_type": "stream",
          "name": "stdout",
          "text": [
            "12 inch classicMagaritha with Multi Grain \n",
            "Sun Dried Cherry Tomato sauce and Goat Blue Cheese with a dash olive oil\n"
          ]
        }
      ]
    },
    {
      "cell_type": "code",
      "source": [],
      "metadata": {
        "id": "VYq7yBrgpOoz"
      },
      "execution_count": null,
      "outputs": []
    },
    {
      "cell_type": "markdown",
      "source": [
        "# The self\n",
        "* Class methods must have an extra first parameter in the method definition. We do not give a value for this parameter when we call the method, Python provides it.\n",
        "* If we have a method that takes no arguments, we still have one argument.\n",
        "* When we call a method of this object as myobject.method(arg1, arg2), this is automatically converted by Python into MyClass.method(myobject, arg1, arg2) – this is all the special self is about."
      ],
      "metadata": {
        "id": "OYI9qYsm9PsT"
      }
    },
    {
      "cell_type": "code",
      "source": [
        "# Python3 program to\n",
        "# demonstrate instantiating\n",
        "# a class\n",
        "\n",
        "\n",
        "class Dog:\n",
        "\n",
        "\t# A simple class\n",
        "\t# attribute\n",
        "\tattr1 = \"mammal\"\n",
        "\tattr2 = \"dog\"\n",
        "\n",
        "\t# A sample method\n",
        "\tdef fun(self):\n",
        "\t\tprint(\"I'm a\", self.attr1)\n",
        "\t\tprint(\"I'm a\", self.attr2)\n",
        "\n",
        "# Object instantiation\n",
        "Rodger = Dog()\n",
        "\n",
        "# Accessing class attributes\n",
        "# and method through objects\n",
        "\n",
        "print(Rodger.attr1)\n",
        "print()\n",
        "\n",
        "Rodger.fun()\n"
      ],
      "metadata": {
        "colab": {
          "base_uri": "https://localhost:8080/"
        },
        "id": "8YLDwhyBXXqm",
        "outputId": "4d3b5834-04fd-4f5d-f500-5ea4f1e90378"
      },
      "execution_count": null,
      "outputs": [
        {
          "output_type": "stream",
          "name": "stdout",
          "text": [
            "mammal\n",
            "\n",
            "I'm a mammal\n",
            "I'm a dog\n"
          ]
        }
      ]
    },
    {
      "cell_type": "markdown",
      "source": [
        "## adding attributes using a methods"
      ],
      "metadata": {
        "id": "N-IcTZpnszhE"
      }
    },
    {
      "cell_type": "code",
      "source": [
        "# class method\n",
        "\n",
        "class Pizza():\n",
        "  \n",
        "  def essentials(self, crust, oil, sauce, cheese, diameter):\n",
        "\n",
        "    # attributes\n",
        "    \n",
        "    self.c = crust\n",
        "    self.o = oil\n",
        "    self.s = sauce\n",
        "    self.ch = cheese\n",
        "    self.d = diameter\n",
        "\n",
        "classicMagaritha = Pizza()\n",
        "\n",
        "classicMagaritha.essentials(\"Multi Grain\", \"Olive\",\"Tomato\",\"fetta\",16)\n",
        "\n",
        "print(f'''{classicMagaritha.d} inch classicMagaritha with {classicMagaritha.c} crust\n",
        "{classicMagaritha.s} sauce and {classicMagaritha.ch} with a dash {classicMagaritha.o} oil''')\n",
        "\n"
      ],
      "metadata": {
        "colab": {
          "base_uri": "https://localhost:8080/"
        },
        "id": "5BCM1s6JpOqZ",
        "outputId": "83860659-cc69-44fd-c6d2-00b81fe0b32a"
      },
      "execution_count": null,
      "outputs": [
        {
          "output_type": "stream",
          "name": "stdout",
          "text": [
            "16 inch classicMagaritha with Multi Grain crust\n",
            "Tomato sauce and fetta with a dash Olive oil\n"
          ]
        }
      ]
    },
    {
      "cell_type": "code",
      "source": [
        "class Pizza():\n",
        "  \n",
        "  def essentials(self, crust, oil, sauce, cheese, diameter):\n",
        "    self.c = crust\n",
        "    self.o = oil\n",
        "    self.s = sauce\n",
        "    self.ch = cheese\n",
        "    self.d = diameter\n",
        "\n",
        "  def ordReady(self):\n",
        "    print(f'''{self.d} inch classicMagaritha with {self.c} crust {self.s} sauce and {self.ch} with a dash {self.o} oil''')\n",
        "\n",
        "classicMagaritha = Pizza()\n",
        "\n",
        "classicMagaritha.essentials(\"Multi Grain\", \"Olive\",\"Tomato\",\"fetta\",16)\n",
        "\n",
        "classicMagaritha.ordReady()"
      ],
      "metadata": {
        "colab": {
          "base_uri": "https://localhost:8080/"
        },
        "id": "Gg1znBKIpOzV",
        "outputId": "a2543f60-5df6-4403-e387-b75387def42f"
      },
      "execution_count": null,
      "outputs": [
        {
          "output_type": "stream",
          "name": "stdout",
          "text": [
            "16 inch classicMagaritha with Multi Grain crust Tomato sauce and fetta with a dash Olive oil\n"
          ]
        }
      ]
    },
    {
      "cell_type": "markdown",
      "source": [
        "# Object Methods\n",
        "* Objects can also contain methods. Methods in objects are functions that belong to the object.\n",
        "\n"
      ],
      "metadata": {
        "id": "B8DJ-t-4B_Nb"
      }
    },
    {
      "cell_type": "code",
      "source": [
        "# Example\n",
        "# Insert a function that prints a greeting, and execute it on the p1 object:\n",
        "\n",
        "class Person:\n",
        "  def __init__(self, name, age):\n",
        "    self.name = name\n",
        "    self.age = age\n",
        "\n",
        "  def myfunc(self):\n",
        "    print(\"Hello my name is \",self.name)\n",
        "    print(\"And  my age is :\", self.age)\n",
        "\n",
        "\n",
        "p1 = Person(\"John\", 36)\n",
        "p1.myfunc()\n"
      ],
      "metadata": {
        "colab": {
          "base_uri": "https://localhost:8080/"
        },
        "id": "FWzT8wxDCHYM",
        "outputId": "3a43e35e-dd78-416e-bc3e-2440f4f2100d"
      },
      "execution_count": null,
      "outputs": [
        {
          "output_type": "stream",
          "name": "stdout",
          "text": [
            "Hello my name is  John\n",
            "And  my age is : 36\n"
          ]
        }
      ]
    },
    {
      "cell_type": "code",
      "source": [
        "# Example\n",
        "# Use the words mysillyobject and abc instead of self:\n",
        "\n",
        "class Person:\n",
        "  def __init__(mysillyobject, name, age):\n",
        "    mysillyobject.name = name\n",
        "    mysillyobject.age = age\n",
        "\n",
        "  def myfunc(abc):\n",
        "    print(\"Hello my name is \" + abc.name)\n",
        "    print(\"And  my age is :\", abc.age)\n",
        "\n",
        "p1 = Person(\"John\", 36)\n",
        "p1.myfunc()"
      ],
      "metadata": {
        "colab": {
          "base_uri": "https://localhost:8080/"
        },
        "id": "-qSAhLT9DL3y",
        "outputId": "ebe68f11-6b42-437f-d894-f8fb479115ee"
      },
      "execution_count": null,
      "outputs": [
        {
          "output_type": "stream",
          "name": "stdout",
          "text": [
            "Hello my name is John\n",
            "And  my age is : 36\n"
          ]
        }
      ]
    },
    {
      "cell_type": "code",
      "source": [],
      "metadata": {
        "id": "ZsnRsLuLpO4x"
      },
      "execution_count": null,
      "outputs": []
    },
    {
      "cell_type": "markdown",
      "source": [
        "# __init__ method\n",
        "* The __init__ method is similar to constructors in C++ and Java. Constructors are used to initialize the object’s state. Like methods, a constructor also contains a collection of statements(i.e. instructions) that are executed at the time of Object creation. It runs as soon as an object of a class is instantiated. The method is useful to do any initialization you want to do with your object.\n",
        "\n",
        "# Note: The __init__() function is called automatically every time the class is being used to create a new object."
      ],
      "metadata": {
        "id": "K1Il_aR792_w"
      }
    },
    {
      "cell_type": "markdown",
      "source": [
        "### creating attributes using \"init\" as constructor.\n",
        "\n",
        "   * **init** is a special method, with a clear and definite functionality to assign values to our object properties methods that might require these values, and in whole are require to create and object.\n",
        "   * **note :** class functions/methods that starts with \"__\"(double underscore) are called as special methods.\n",
        "   They executes a pre-defined functionality.\n",
        "\n"
      ],
      "metadata": {
        "id": "y-Z1O9tZz0c0"
      }
    },
    {
      "cell_type": "markdown",
      "source": [
        "# Class and Instance Variables\n",
        "* Instance variables are for data, unique to each instance and class variables are for attributes and methods shared by all instances of the class. Instance variables are variables whose value is assigned inside a constructor or method with self whereas class variables are variables whose value is assigned in the class."
      ],
      "metadata": {
        "id": "xkfg91nU_FDi"
      }
    },
    {
      "cell_type": "code",
      "source": [
        "# Example\n",
        "# Create a class named Person, use the __init__() function to assign values for name and age:\n",
        "\n",
        "class Person:\n",
        "  def __init__(self, name, age):\n",
        "    self.name = name\n",
        "    self.age = age\n",
        "\n",
        "p1 = Person(\"John\", 36)\n",
        "\n",
        "print(p1.name)\n",
        "print(p1.age)"
      ],
      "metadata": {
        "colab": {
          "base_uri": "https://localhost:8080/"
        },
        "id": "1xwk2wbLBKI4",
        "outputId": "f6e3eb50-7807-4250-e6a5-56259939f340"
      },
      "execution_count": null,
      "outputs": [
        {
          "output_type": "stream",
          "name": "stdout",
          "text": [
            "John\n",
            "36\n"
          ]
        }
      ]
    },
    {
      "cell_type": "code",
      "source": [
        "# Python3 program to show that the variables with a value\n",
        "# assigned in the class declaration, are class variables and\n",
        "# variables inside methods and constructors are instance\n",
        "# variables.\n",
        "\n",
        "# Class for Dog\n",
        "\n",
        "\n",
        "class Dog:\n",
        "\n",
        "\t# Class Variable\n",
        "\tanimal = 'dog'\n",
        "\n",
        "\t# The init method or constructor\n",
        "\tdef __init__(self, breed, color):\n",
        "\n",
        "\t\t# Instance Variable\n",
        "\t\tself.breed = breed\n",
        "\t\tself.color = color\n",
        "\n",
        "\n",
        "# Objects of Dog class\n",
        "Rodger = Dog(\"Pug\", \"brown\")\n",
        "Buzo = Dog(\"Bulldog\", \"black\")\n",
        "\n",
        "print('Rodger details:')\n",
        "print('Rodger is a', Rodger.animal)\n",
        "print('Breed: ', Rodger.breed)\n",
        "print('Color: ', Rodger.color)\n",
        "\n",
        "print('\\nBuzo details:')\n",
        "print('Buzo is a', Buzo.animal)\n",
        "print('Breed: ', Buzo.breed)\n",
        "print('Color: ', Buzo.color)\n",
        "\n",
        "# Class variables can be accessed using class\n",
        "# name also\n",
        "print(\"\\nAccessing class variable using class name\")\n",
        "print(Dog.animal)\n"
      ],
      "metadata": {
        "colab": {
          "base_uri": "https://localhost:8080/"
        },
        "id": "Dh_9YyTO_UAH",
        "outputId": "12826f7f-ff38-46c5-b8df-2372b8f2ed82"
      },
      "execution_count": null,
      "outputs": [
        {
          "output_type": "stream",
          "name": "stdout",
          "text": [
            "Rodger details:\n",
            "Rodger is a dog\n",
            "Breed:  Pug\n",
            "Color:  brown\n",
            "\n",
            "Buzo details:\n",
            "Buzo is a dog\n",
            "Breed:  Bulldog\n",
            "Color:  black\n",
            "\n",
            "Accessing class variable using class name\n",
            "dog\n"
          ]
        }
      ]
    },
    {
      "cell_type": "code",
      "source": [
        "# Python3 program to show that we can create\n",
        "# instance variables inside methods\n",
        "\n",
        "# Class for Dog\n",
        "\n",
        "\n",
        "class Dog:\n",
        "\n",
        "\t# Class Variable\n",
        "\tanimal = 'dog'\n",
        "\n",
        "\t# The init method or constructor\n",
        "\tdef __init__(self, breed):\n",
        "\n",
        "\t\t# Instance Variable\n",
        "\t\tself.breed = breed\n",
        "\n",
        "\t# Adds an instance variable\n",
        "\tdef setColor(self, color):\n",
        "\t\tself.color = color\n",
        "\n",
        "\t# Retrieves instance variable\n",
        "\tdef getColor(self):\n",
        "\t\treturn self.color\n",
        "\n",
        "\n",
        "# Driver Code\n",
        "Rodger = Dog(\"pug\")\n",
        "Rodger.setColor(\"brown\")\n",
        "print(Rodger.getColor())\n"
      ],
      "metadata": {
        "colab": {
          "base_uri": "https://localhost:8080/"
        },
        "id": "shu1dk2q_hCr",
        "outputId": "f3efa28c-c592-4d3b-eb54-e1ebc31e4446"
      },
      "execution_count": null,
      "outputs": [
        {
          "output_type": "stream",
          "name": "stdout",
          "text": [
            "brown\n"
          ]
        }
      ]
    },
    {
      "cell_type": "code",
      "source": [
        "# Sample class with init method\n",
        "class Person:\n",
        "\n",
        "\t# init method or constructor\n",
        "\tdef __init__(self, name):\n",
        "\t\tself.name = name\n",
        "\n",
        "\t# Sample Method\n",
        "\tdef say_hi(self):\n",
        "\t\tprint('Hello, my name is', self.name)\n",
        "\n",
        "\n",
        "p = Person('Nikhil')\n",
        "p.say_hi()\n"
      ],
      "metadata": {
        "colab": {
          "base_uri": "https://localhost:8080/"
        },
        "id": "SuXkjq4E-ise",
        "outputId": "f8d4ac6f-79c2-4b29-bfb1-f1f7da85f4df"
      },
      "execution_count": null,
      "outputs": [
        {
          "output_type": "stream",
          "name": "stdout",
          "text": [
            "Hello, my name is Nikhil\n"
          ]
        }
      ]
    },
    {
      "cell_type": "code",
      "source": [],
      "metadata": {
        "id": "kYIPhn1a_dLP"
      },
      "execution_count": null,
      "outputs": []
    },
    {
      "cell_type": "code",
      "source": [
        "class Pizza:\n",
        "\n",
        "  '''This is our pizza court'''\n",
        "  \n",
        "  def __init__(self, crust, oil, sauce, cheese, diameter, toppings = None):\n",
        "\n",
        "    self.c = crust\n",
        "    self.o = oil\n",
        "    self.s = sauce\n",
        "    self.ch = cheese\n",
        "    self.d = diameter\n",
        "    self.toppings = toppings\n",
        "    self.area = (22/7)*((self.d/2)**2)\n",
        "\n",
        "  def ordReady(self):\n",
        "    print(f'''{self.d} inch with {self.c} crust {self.s} sauce and {self.ch} with a dash {self.o} oil is ready to surve''')\n",
        "\n",
        "chSauPizza = Pizza(\"maida\", \"palm\",\"expired ketchup\",\"cheese\",7, toppings = \"chicken sauce\")\n",
        "\n",
        "chSauPizza.ordReady()\n",
        "\n",
        "chSauPizza.area\n",
        "\n"
      ],
      "metadata": {
        "colab": {
          "base_uri": "https://localhost:8080/"
        },
        "id": "ZObQ3ukd0FTw",
        "outputId": "4da28f4b-9072-44e4-f8f7-b31e4060c738"
      },
      "execution_count": null,
      "outputs": [
        {
          "output_type": "stream",
          "name": "stdout",
          "text": [
            "7 inch with maida crust expired ketchup sauce and cheese with a dash palm oil is ready to surve\n"
          ]
        },
        {
          "output_type": "execute_result",
          "data": {
            "text/plain": [
              "38.5"
            ]
          },
          "metadata": {},
          "execution_count": 16
        }
      ]
    },
    {
      "cell_type": "code",
      "source": [
        "print(Pizza.__doc__)    "
      ],
      "metadata": {
        "colab": {
          "base_uri": "https://localhost:8080/"
        },
        "id": "K3AjtZeBrMF9",
        "outputId": "0d9bdd8d-1ed3-4477-eb08-c805b2949256"
      },
      "execution_count": null,
      "outputs": [
        {
          "output_type": "stream",
          "name": "stdout",
          "text": [
            "This is our pizza court\n"
          ]
        }
      ]
    },
    {
      "cell_type": "code",
      "source": [
        "chSauPizza.toppings"
      ],
      "metadata": {
        "colab": {
          "base_uri": "https://localhost:8080/",
          "height": 36
        },
        "id": "cvKaJnnc0Fua",
        "outputId": "c7a2b59c-f6ad-4253-cfcd-5596d68e0bd0"
      },
      "execution_count": null,
      "outputs": [
        {
          "output_type": "execute_result",
          "data": {
            "text/plain": [
              "'chicken sauce'"
            ],
            "application/vnd.google.colaboratory.intrinsic+json": {
              "type": "string"
            }
          },
          "metadata": {},
          "execution_count": 18
        }
      ]
    },
    {
      "cell_type": "code",
      "source": [
        "\"zonedout\".upper()"
      ],
      "metadata": {
        "id": "FSMv6YoEzyMu",
        "colab": {
          "base_uri": "https://localhost:8080/",
          "height": 36
        },
        "outputId": "8c856e9f-a4a9-41b5-fc40-28d64d719cce"
      },
      "execution_count": null,
      "outputs": [
        {
          "output_type": "execute_result",
          "data": {
            "text/plain": [
              "'ZONEDOUT'"
            ],
            "application/vnd.google.colaboratory.intrinsic+json": {
              "type": "string"
            }
          },
          "metadata": {},
          "execution_count": 19
        }
      ]
    },
    {
      "cell_type": "code",
      "source": [
        "str.upper(\"zonedout\")"
      ],
      "metadata": {
        "id": "8lA2DyX951Dv",
        "colab": {
          "base_uri": "https://localhost:8080/",
          "height": 36
        },
        "outputId": "407cc5e9-1c1e-4116-e6e1-4fff7e4f15f6"
      },
      "execution_count": null,
      "outputs": [
        {
          "output_type": "execute_result",
          "data": {
            "text/plain": [
              "'ZONEDOUT'"
            ],
            "application/vnd.google.colaboratory.intrinsic+json": {
              "type": "string"
            }
          },
          "metadata": {},
          "execution_count": 20
        }
      ]
    },
    {
      "cell_type": "code",
      "source": [],
      "metadata": {
        "id": "kCY_ryxk51Kc"
      },
      "execution_count": null,
      "outputs": []
    },
    {
      "cell_type": "code",
      "source": [],
      "metadata": {
        "id": "Mek1T6ye51Pm"
      },
      "execution_count": null,
      "outputs": []
    },
    {
      "cell_type": "markdown",
      "source": [
        "# instance attributes \n",
        "* object level attributes, these may or may not have the same values across all objects.\n",
        "* in the above examples, the crust, oil etc can have different values for different objects, these can be considered as instance attributes.\n",
        "\n"
      ],
      "metadata": {
        "id": "Ed4j_Jh7z8by"
      }
    },
    {
      "cell_type": "code",
      "source": [
        "# ex\n",
        "\n",
        "class Foo:\n",
        "\n",
        "  def __init__(self, a, b):\n",
        "    self.a = a\n",
        "    self.b = b\n",
        "\n",
        "x1, x2 = Foo(10,20), Foo(11,12)\n",
        "\n",
        "print((x1.a,x2.b),(x2.a,x2.b), sep = \"\\n\")"
      ],
      "metadata": {
        "id": "ruOBzGvq51Vb",
        "colab": {
          "base_uri": "https://localhost:8080/"
        },
        "outputId": "ea8bb5d5-7182-41c5-f84c-53bff6fdecc6"
      },
      "execution_count": null,
      "outputs": [
        {
          "output_type": "stream",
          "name": "stdout",
          "text": [
            "(10, 12)\n",
            "(11, 12)\n"
          ]
        }
      ]
    },
    {
      "cell_type": "code",
      "source": [],
      "metadata": {
        "id": "XL_OfEwd51YW"
      },
      "execution_count": null,
      "outputs": []
    },
    {
      "cell_type": "markdown",
      "source": [
        "# static attributes\n",
        "\n",
        "* A static variable is a variable that remains common for the entire class, i.e. rather than creating a copy for each instance, the same memory space is shared by all instances. Static variables are also referred to as variables defined inside the class but outside the methods."
      ],
      "metadata": {
        "id": "XNk9ciFN0vCL"
      }
    },
    {
      "cell_type": "code",
      "source": [
        "class Rest:\n",
        "\n",
        "  disc = 0\n",
        "  \n",
        "  def __init__(self,bill):\n",
        "    self.bill = bill\n",
        "    \n",
        "\n",
        "  def totalbill(self):\n",
        "    return self.bill-(self.bill*self.disc)\n",
        "\n",
        "a1 = Rest(50)\n",
        "print(a1.totalbill())\n",
        "\n",
        "a2 = Rest(50)\n",
        "a2.disc = 0.10\n",
        "a2.totalbill()"
      ],
      "metadata": {
        "id": "7jahyKrdzyQw",
        "colab": {
          "base_uri": "https://localhost:8080/"
        },
        "outputId": "6509e686-a6ec-409f-8490-b3d64c0a67dd"
      },
      "execution_count": null,
      "outputs": [
        {
          "output_type": "stream",
          "name": "stdout",
          "text": [
            "50\n"
          ]
        },
        {
          "output_type": "execute_result",
          "data": {
            "text/plain": [
              "45.0"
            ]
          },
          "metadata": {},
          "execution_count": 33
        }
      ]
    },
    {
      "cell_type": "code",
      "source": [],
      "metadata": {
        "id": "QFsvQ5N9zyTq"
      },
      "execution_count": null,
      "outputs": []
    },
    {
      "cell_type": "markdown",
      "source": [
        "# methods\n",
        "**instance methods**\n",
        "\n",
        "* these methods take self as first parameter, we use these methods to modify or alter the instance's attributes or state.\n",
        "\n",
        "**class methods**\n",
        "\n",
        "* these methods accpets \"cls\" as their first attribute, we define a class method by using a decorator @classmethod.\n",
        "\n",
        "**static method** \n",
        "\n",
        "* we define static methods using @staticmethods decorator, these methods accepts no cls or self as first parameters.\n",
        "\n"
      ],
      "metadata": {
        "id": "6SQdedZM4t1S"
      }
    },
    {
      "cell_type": "code",
      "source": [
        "class Rest:\n",
        "\n",
        "  disc = 0\n",
        "\n",
        "  def __init__(self, bill):\n",
        "    self.bill = bill\n",
        "\n",
        "  def printbill(self):  # instance method\n",
        "    print(f'bill before discount is {self.bill}')\n",
        "\n",
        "  @classmethod\n",
        "  def discount(cls): # class mtd calling the class\n",
        "    print(f'the discount you availed is {cls.disc} %')\n",
        "\n",
        "  @staticmethod\n",
        "  def greet():\n",
        "    print(\"welcome\")\n",
        "\n",
        "Rest.discount()\n",
        "\n",
        "# using an objetc\n",
        "a1 = Rest(50)\n",
        "a1.printbill()\n",
        "a1.discount()\n",
        "a1.greet()"
      ],
      "metadata": {
        "colab": {
          "base_uri": "https://localhost:8080/"
        },
        "id": "S2SfLdXq4j76",
        "outputId": "dd0324ec-6f46-4fa0-8933-520ec64bf62b"
      },
      "execution_count": null,
      "outputs": [
        {
          "output_type": "stream",
          "name": "stdout",
          "text": [
            "the discount you availed is 0 %\n",
            "bill before discount is 50\n",
            "the discount you availed is 0 %\n",
            "welcome\n"
          ]
        }
      ]
    },
    {
      "cell_type": "code",
      "source": [
        "# create a class call as student which accepts name,roll no,section,total marks.\n",
        "\n",
        "class Student:\n",
        "\n",
        "  def __init__(self, name, rollno, Class, section, totalmarks):\n",
        "    self.name = name\n",
        "    self.rollno = rollno\n",
        "    self.Class = Class\n",
        "    self.section = section\n",
        "    self.totalmarks = totalmarks\n",
        "\n",
        "  def func(self):\n",
        "    print(f'''my name is {self.name} and my rollno is {self.rollno} and Class is {self.Class} and section is {self.section} and the total marks {self.totalmarks}''' )\n",
        " \n",
        "x = Student(\"narender\",106,6,\"A\", 100)\n",
        "x.func()\n",
        "\n"
      ],
      "metadata": {
        "colab": {
          "base_uri": "https://localhost:8080/"
        },
        "id": "dNBNnlaQ4kBw",
        "outputId": "4901bc8e-3435-4e73-9ddf-f0d2f60a9168"
      },
      "execution_count": null,
      "outputs": [
        {
          "output_type": "stream",
          "name": "stdout",
          "text": [
            "my name is narender and my rollno is 106 and Class is 6 and section is A and the total marks 100\n"
          ]
        }
      ]
    },
    {
      "cell_type": "code",
      "source": [
        "# create a class variable called cutoff with value 60 "
      ],
      "metadata": {
        "id": "eKMRVHAP4kG9"
      },
      "execution_count": null,
      "outputs": []
    },
    {
      "cell_type": "code",
      "source": [
        "# create class method which will evaluate fail or pass"
      ],
      "metadata": {
        "id": "T2eEhT0zh9FY"
      },
      "execution_count": null,
      "outputs": []
    },
    {
      "cell_type": "code",
      "source": [],
      "metadata": {
        "id": "rkKMXcvFEjH3"
      },
      "execution_count": null,
      "outputs": []
    },
    {
      "cell_type": "markdown",
      "source": [
        "# Public, Private and Protected\n",
        "\n",
        "* In python, we can use '_' to safegaurd and control the access of any attribute or method in a class.\n",
        "\n",
        "1. public: \n",
        "\n",
        "         * attributes or methods defined as public(without underscore) can be accessed from any part of the program. \n",
        "         All the data components in a class are public by default.\n",
        "\n",
        "2. private:\n",
        "\n",
        "         * the data components that are declared as \"private\" can be accessed within the class itself.\n",
        "         * \"__\" (double underscore) is added before the data member to make it private.\n",
        "\n",
        "3 . protected:\n",
        "\n",
        "            * these are only accesseble from the class it is derived.\n",
        "            * \"_\" (single underscore) is added before the data member to make it public."
      ],
      "metadata": {
        "id": "Yp-O0R9bEqM8"
      }
    },
    {
      "cell_type": "code",
      "source": [
        "class Student:\n",
        "\n",
        "  def __init__(self,totalmarks):\n",
        "    self.__cutoff = 60           # private attribute \n",
        "    self.__marks = totalmarks     # private attribute\n",
        "\n",
        "\n",
        "  def pof(self):\n",
        "    if self.__marks >= self.__cutoff:\n",
        "      print(\"you have cleared the exam\")\n",
        "    else:\n",
        "      print(\"try next time\")\n",
        "\n",
        "x = Student(40)\n",
        "x.pof()\n",
        "x.__marks = 80\n",
        "x.pof()\n"
      ],
      "metadata": {
        "colab": {
          "base_uri": "https://localhost:8080/"
        },
        "id": "2gnTuYZOEjOr",
        "outputId": "10c11603-3e21-4acf-d612-e1d11d8394ab"
      },
      "execution_count": null,
      "outputs": [
        {
          "output_type": "stream",
          "name": "stdout",
          "text": [
            "try next time\n",
            "try next time\n"
          ]
        }
      ]
    },
    {
      "cell_type": "code",
      "source": [],
      "metadata": {
        "id": "OnY0p3NqEjS2"
      },
      "execution_count": null,
      "outputs": []
    },
    {
      "cell_type": "code",
      "source": [],
      "metadata": {
        "id": "-JyVAqZMEjUs"
      },
      "execution_count": null,
      "outputs": []
    },
    {
      "cell_type": "code",
      "source": [],
      "metadata": {
        "id": "110Z3qNOEjYl"
      },
      "execution_count": null,
      "outputs": []
    }
  ]
}